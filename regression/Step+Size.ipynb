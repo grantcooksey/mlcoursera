{
 "cells": [
  {
   "cell_type": "markdown",
   "metadata": {},
   "source": [
    "# RSS Step Size\n",
    "This notebook will explore how step size affects gradient descent"
   ]
  },
  {
   "cell_type": "markdown",
   "metadata": {},
   "source": [
    "test"
   ]
  },
  {
   "cell_type": "code",
   "execution_count": null,
   "metadata": {
    "collapsed": true
   },
   "outputs": [],
   "source": [
    "import pandas as pd\n",
    "import numpy as np\n",
    "import matplotlib.pyplot as plt"
   ]
  },
  {
   "cell_type": "code",
   "execution_count": null,
   "metadata": {
    "collapsed": true
   },
   "outputs": [],
   "source": [
    "x = np.array([1,2,3,4])\n",
    "y = np.array([2,3,4,5])"
   ]
  },
  {
   "cell_type": "markdown",
   "metadata": {},
   "source": [
    "Partial derivate for RSS is of the form $H^T(y-\\hat{y})$"
   ]
  },
  {
   "cell_type": "code",
   "execution_count": null,
   "metadata": {
    "collapsed": true
   },
   "outputs": [],
   "source": [
    "def get_partial(known_values, feature_matrix, weights):\n",
    "    return np.dot(np.transpose(feature_matrix), known_values-np.dot(feature_matrix, weights))"
   ]
  },
  {
   "cell_type": "code",
   "execution_count": null,
   "metadata": {
    "collapsed": false
   },
   "outputs": [],
   "source": [
    "# returns polynomial model for inputs based on degree and weight vector\n",
    "# initialized to 0\n",
    "def gen_predicted(x, deg):\n",
    "    df = pd.DataFrame(x, columns=['x'])\n",
    "    for i in range(deg+1):\n",
    "        df['h'+str(i)] = df['x']**i\n",
    "    return df.drop(['x'], axis=1).as_matrix(), np.zeros(deg+1)"
   ]
  },
  {
   "cell_type": "code",
   "execution_count": null,
   "metadata": {
    "collapsed": false
   },
   "outputs": [],
   "source": [
    "a, weights = gen_predicted(x, 1)"
   ]
  },
  {
   "cell_type": "markdown",
   "metadata": {},
   "source": [
    "to follow my notebook, weights will be [0, 1]"
   ]
  },
  {
   "cell_type": "code",
   "execution_count": null,
   "metadata": {
    "collapsed": true
   },
   "outputs": [],
   "source": [
    "weights[1] = 1."
   ]
  },
  {
   "cell_type": "markdown",
   "metadata": {},
   "source": [
    "## Gradient Descent"
   ]
  },
  {
   "cell_type": "markdown",
   "metadata": {},
   "source": [
    "We will use an abitrary tolerance of 0.2.  The step size will be fixed and tested across a range of different values"
   ]
  },
  {
   "cell_type": "code",
   "execution_count": null,
   "metadata": {
    "collapsed": true
   },
   "outputs": [],
   "source": [
    "tolerance = 0.2\n",
    "step = [0.01, 0.1, 0.25, 1]"
   ]
  },
  {
   "cell_type": "code",
   "execution_count": 70,
   "metadata": {
    "collapsed": true
   },
   "outputs": [],
   "source": [
    "def add_to_plot(weights, label='', start=1, end=4, color=''):\n",
    "    x_plot = np.arange(start, end, 0.1)\n",
    "    y_plot = 0\n",
    "    for index,val in enumerate(weights):\n",
    "        y_plot += val*x_plot**index\n",
    "    plt.plot(x_plot,y_plot,color, label=label)\n",
    "    if label != '':\n",
    "        plt.legend()"
   ]
  },
  {
   "cell_type": "markdown",
   "metadata": {},
   "source": [
    "For a single iteration"
   ]
  },
  {
   "cell_type": "code",
   "execution_count": null,
   "metadata": {
    "collapsed": false
   },
   "outputs": [],
   "source": [
    "add_to_plot([1,1], 'original') # desired function\n",
    "for s in step:\n",
    "    next_weight = weights + s*get_partial(y, a, weights)\n",
    "    add_to_plot(next_weight, str(s))\n",
    "plt.legend()\n",
    "plt.show()"
   ]
  },
  {
   "cell_type": "markdown",
   "metadata": {},
   "source": [
    "After 20 iterations"
   ]
  },
  {
   "cell_type": "code",
   "execution_count": null,
   "metadata": {
    "collapsed": false
   },
   "outputs": [],
   "source": [
    "add_to_plot([1,1], 'original') # desired function\n",
    "for s in step:\n",
    "    temp_weights = weights\n",
    "    for i in range(20):\n",
    "        temp_weights = temp_weights + s*get_partial(y, a, temp_weights)\n",
    "    add_to_plot(temp_weights, str(s))\n",
    "plt.show()"
   ]
  },
  {
   "cell_type": "markdown",
   "metadata": {},
   "source": [
    "Clearly, we have a problem with convergence. It appears that if the learning rate is too high, gradient descent will diverge.  Plot the time till convergence based on a range of values to find the best learning rate."
   ]
  },
  {
   "cell_type": "code",
   "execution_count": null,
   "metadata": {
    "collapsed": false
   },
   "outputs": [],
   "source": [
    "step = np.arange(0.0001, 0.07, 0.0001)\n",
    "x_step = []\n",
    "y_iteration = []\n",
    "for s in step:\n",
    "    temp_weights = weights\n",
    "    for i in range(1000):\n",
    "        partial = get_partial(y,a,temp_weights)\n",
    "        temp_weights = temp_weights + s*partial\n",
    "        if (np.linalg.norm(partial)<0.01):\n",
    "            x_step.append(s)\n",
    "            y_iteration.append(i)\n",
    "            break\n",
    "plt.plot(x_step, y_iteration)\n",
    "plt.show()"
   ]
  },
  {
   "cell_type": "code",
   "execution_count": null,
   "metadata": {
    "collapsed": false
   },
   "outputs": [],
   "source": [
    "pd.Series(y_iteration, index=x_step).idxmin()"
   ]
  },
  {
   "cell_type": "markdown",
   "metadata": {},
   "source": [
    "# Descent Algorithm"
   ]
  },
  {
   "cell_type": "code",
   "execution_count": null,
   "metadata": {
    "collapsed": true
   },
   "outputs": [],
   "source": [
    "def gradient_descent(y, weights, feature_matrix, step_size, tolerance):\n",
    "    y_copy = y.copy()\n",
    "    feature_matrix_copy = feature_matrix.copy()\n",
    "    weights_copy = weights.copy()\n",
    "    while True:\n",
    "        partial = get_partial(feature_matrix=feature_matrix_copy, predicted_values=y_copy, weights=weights_copy)\n",
    "        weights_copy = weights_copy + step_size*partial\n",
    "        if np.linalg.norm(partial)<tolerance:\n",
    "            break\n",
    "    return weights_copy"
   ]
  },
  {
   "cell_type": "code",
   "execution_count": null,
   "metadata": {
    "collapsed": false
   },
   "outputs": [],
   "source": [
    "weights"
   ]
  },
  {
   "cell_type": "code",
   "execution_count": null,
   "metadata": {
    "collapsed": false
   },
   "outputs": [],
   "source": [
    "model = gradient_descent(y, weights, a, 0.05, 0.001)"
   ]
  },
  {
   "cell_type": "code",
   "execution_count": null,
   "metadata": {
    "collapsed": false
   },
   "outputs": [],
   "source": [
    "model"
   ]
  },
  {
   "cell_type": "code",
   "execution_count": null,
   "metadata": {
    "collapsed": false
   },
   "outputs": [],
   "source": [
    "add_to_plot([1,1], 'original')\n",
    "add_to_plot(model, 'predicted')\n",
    "plt.show()"
   ]
  },
  {
   "cell_type": "markdown",
   "metadata": {},
   "source": [
    "# Polynomial regression\n",
    "First we will test a known function"
   ]
  },
  {
   "cell_type": "markdown",
   "metadata": {},
   "source": [
    "Wrapper for determining the optimal step size"
   ]
  },
  {
   "cell_type": "code",
   "execution_count": 155,
   "metadata": {
    "collapsed": false
   },
   "outputs": [],
   "source": [
    "def learn_optimal(weights, y, feature_matrix, start, end, inc, iterations):\n",
    "    step = np.arange(start,end,inc)\n",
    "    print('# of steps ', len(step))\n",
    "    x_step = []\n",
    "    y_iteration = []\n",
    "    for s in step:\n",
    "        temp_weights = weights\n",
    "        for i in range(iterations):\n",
    "            partial = get_partial(y,feature_matrix,temp_weights)\n",
    "            temp_weights = temp_weights + s*partial\n",
    "            if (np.linalg.norm(partial)<0.01):\n",
    "                x_step.append(s)\n",
    "                y_iteration.append(i)\n",
    "                break\n",
    "    if y_iteration:\n",
    "        plt.plot(x_step, y_iteration)\n",
    "        plt.show()\n",
    "        print(pd.Series(y_iteration, index=x_step).idxmin())\n",
    "    else:\n",
    "        print('convergence not found')"
   ]
  },
  {
   "cell_type": "code",
   "execution_count": 132,
   "metadata": {
    "collapsed": false
   },
   "outputs": [],
   "source": [
    "y_squared = np.array([2, 5, 10, 17])"
   ]
  },
  {
   "cell_type": "code",
   "execution_count": 133,
   "metadata": {
    "collapsed": false
   },
   "outputs": [],
   "source": [
    "poly_feature, poly_weights = gen_predicted(x, 2)"
   ]
  },
  {
   "cell_type": "code",
   "execution_count": 158,
   "metadata": {
    "collapsed": false
   },
   "outputs": [
    {
     "name": "stdout",
     "output_type": "stream",
     "text": [
      "# of steps  100\n"
     ]
    },
    {
     "data": {
      "image/png": "[encoded data removed]",
      "text/plain": [
       "<matplotlib.figure.Figure at 0x7f2024ebfeb8>"
      ]
     },
     "metadata": {},
     "output_type": "display_data"
    },
    {
     "name": "stdout",
     "output_type": "stream",
     "text": [
      "0.00099001\n"
     ]
    }
   ],
   "source": [
    "learn_optimal(poly_weights, y_squared, poly_feature, 0.00000001, 0.001, 0.00001, 30000)"
   ]
  },
  {
   "cell_type": "code",
   "execution_count": 81,
   "metadata": {
    "collapsed": false
   },
   "outputs": [
    {
     "data": {
      "image/png": "[encoded data removed]",
      "text/plain": [
       "<matplotlib.figure.Figure at 0x7f202573c358>"
      ]
     },
     "metadata": {},
     "output_type": "display_data"
    }
   ],
   "source": [
    "add_to_plot([1,0,1])\n",
    "plt.show()"
   ]
  },
  {
   "cell_type": "code",
   "execution_count": 187,
   "metadata": {
    "collapsed": true
   },
   "outputs": [],
   "source": [
    "poly_model = gradient_descent(y_squared, poly_weights, poly_feature, 0.00096, 0.001)"
   ]
  },
  {
   "cell_type": "code",
   "execution_count": 188,
   "metadata": {
    "collapsed": false
   },
   "outputs": [
    {
     "data": {
      "text/plain": [
       "array([ 0.9896502 ,  0.00941585,  0.9982169 ])"
      ]
     },
     "execution_count": 188,
     "metadata": {},
     "output_type": "execute_result"
    }
   ],
   "source": [
    "poly_model"
   ]
  },
  {
   "cell_type": "code",
   "execution_count": 174,
   "metadata": {
    "collapsed": false
   },
   "outputs": [
    {
     "data": {
      "image/png": "[encoded data removed]",
      "text/plain": [
       "<matplotlib.figure.Figure at 0x7f2024f6ee48>"
      ]
     },
     "metadata": {},
     "output_type": "display_data"
    }
   ],
   "source": [
    "add_to_plot([1,0,1], 'original')\n",
    "add_to_plot(poly_model, 'model')\n",
    "plt.show()"
   ]
  },
  {
   "cell_type": "markdown",
   "metadata": {},
   "source": [
    "## Unknown"
   ]
  },
  {
   "cell_type": "code",
   "execution_count": 175,
   "metadata": {
    "collapsed": true
   },
   "outputs": [],
   "source": [
    "y_unknown = y**2"
   ]
  },
  {
   "cell_type": "code",
   "execution_count": 177,
   "metadata": {
    "collapsed": false
   },
   "outputs": [
    {
     "name": "stdout",
     "output_type": "stream",
     "text": [
      "# of steps  100\n"
     ]
    },
    {
     "data": {
      "image/png": "[encoded data removed]",
      "text/plain": [
       "<matplotlib.figure.Figure at 0x7f2024e8ed30>"
      ]
     },
     "metadata": {},
     "output_type": "display_data"
    },
    {
     "name": "stdout",
     "output_type": "stream",
     "text": [
      "0.00099001\n"
     ]
    }
   ],
   "source": [
    "learn_optimal(poly_weights, y_unknown, poly_feature, 0.00000001, 0.001, 0.00001, 30000)"
   ]
  },
  {
   "cell_type": "code",
   "execution_count": 182,
   "metadata": {
    "collapsed": false
   },
   "outputs": [],
   "source": [
    "unknown_model = gradient_descent(y_unknown, poly_weights, poly_feature, 0.00096, 0.0001)"
   ]
  },
  {
   "cell_type": "code",
   "execution_count": 183,
   "metadata": {
    "collapsed": false
   },
   "outputs": [
    {
     "data": {
      "text/plain": [
       "array([ 1.00103492,  1.99905847,  1.0001783 ])"
      ]
     },
     "execution_count": 183,
     "metadata": {},
     "output_type": "execute_result"
    }
   ],
   "source": [
    "unknown_model"
   ]
  },
  {
   "cell_type": "code",
   "execution_count": 184,
   "metadata": {
    "collapsed": false
   },
   "outputs": [
    {
     "data": {
      "image/png": "[encoded data removed]",
      "text/plain": [
       "<matplotlib.figure.Figure at 0x7f202500a748>"
      ]
     },
     "metadata": {},
     "output_type": "display_data"
    }
   ],
   "source": [
    "add_to_plot(unknown_model,'model')\n",
    "add_to_plot([1,2,1],'original')\n",
    "plt.show()"
   ]
  },
  {
   "cell_type": "markdown",
   "metadata": {},
   "source": [
    "# Comparison\n"
   ]
  },
  {
   "cell_type": "code",
   "execution_count": 185,
   "metadata": {
    "collapsed": true
   },
   "outputs": [],
   "source": [
    "from sklearn import linear_model"
   ]
  },
  {
   "cell_type": "code",
   "execution_count": 194,
   "metadata": {
    "collapsed": false
   },
   "outputs": [
    {
     "data": {
      "text/plain": [
       "array([  0.00000000e+00,   6.00367074e-15,   1.00000000e+00])"
      ]
     },
     "execution_count": 194,
     "metadata": {},
     "output_type": "execute_result"
    }
   ],
   "source": [
    "reg = linear_model.LinearRegression()\n",
    "reg.fit(poly_feature, y_squared)\n",
    "reg.coef_"
   ]
  },
  {
   "cell_type": "code",
   "execution_count": 196,
   "metadata": {
    "collapsed": false
   },
   "outputs": [
    {
     "data": {
      "image/png": "[encoded data removed]",
      "text/plain": [
       "<matplotlib.figure.Figure at 0x7f20252aae10>"
      ]
     },
     "metadata": {},
     "output_type": "display_data"
    }
   ],
   "source": [
    "add_to_plot(reg.coef_,'sklearn')\n",
    "add_to_plot([1,0,1],'original')\n",
    "plt.show()"
   ]
  },
  {
   "cell_type": "code",
   "execution_count": null,
   "metadata": {
    "collapsed": true
   },
   "outputs": [],
   "source": []
  }
 ],
 "metadata": {
  "kernelspec": {
   "display_name": "Python 3",
   "language": "python",
   "name": "python3"
  },
  "language_info": {
   "codemirror_mode": {
    "name": "ipython",
    "version": 3
   },
   "file_extension": ".py",
   "mimetype": "text/x-python",
   "name": "python",
   "nbconvert_exporter": "python",
   "pygments_lexer": "ipython3",
   "version": "3.6.0"
  }
 },
 "nbformat": 4,
 "nbformat_minor": 2
}
