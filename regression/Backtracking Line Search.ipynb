{
 "cells": [
  {
   "cell_type": "markdown",
   "metadata": {},
   "source": [
    "# Line Search\n",
    "This notebooke will explore implementing backtracking linesearch into out gradient descent algorithm.\n",
    "See [here](http://users.ece.utexas.edu/~cmcaram/EE381V_2012F/Lecture_4_Scribe_Notes.final.pdf)"
   ]
  },
  {
   "cell_type": "code",
   "execution_count": 101,
   "metadata": {
    "collapsed": true
   },
   "outputs": [],
   "source": [
    "import pandas as pd\n",
    "import numpy as np\n",
    "import matplotlib.pyplot as plt\n",
    "import gradient_descent as gd\n",
    "import math"
   ]
  },
  {
   "cell_type": "code",
   "execution_count": 2,
   "metadata": {
    "collapsed": false
   },
   "outputs": [],
   "source": [
    "x = np.array([1,2,3,4])\n",
    "y = np.array([2,3,4,5])**2\n",
    "features, weights = gd.gen_predicted(x, 2)"
   ]
  },
  {
   "cell_type": "code",
   "execution_count": 3,
   "metadata": {
    "collapsed": true
   },
   "outputs": [],
   "source": [
    "n=1\n",
    "b=.5\n",
    "a=.25"
   ]
  },
  {
   "cell_type": "code",
   "execution_count": 20,
   "metadata": {
    "collapsed": false
   },
   "outputs": [
    {
     "data": {
      "text/plain": [
       "array([  6.59344000e+05,   7.50212100e+06,   3.40588960e+07,\n",
       "         1.02070609e+08])"
      ]
     },
     "execution_count": 20,
     "metadata": {},
     "output_type": "execute_result"
    }
   ],
   "source": [
    "left = gd.get_RSS(y, features, (weights-n*gd.get_RSS_partial(y, features, weights)))\n",
    "left"
   ]
  },
  {
   "cell_type": "code",
   "execution_count": 21,
   "metadata": {
    "collapsed": false
   },
   "outputs": [
    {
     "data": {
      "text/plain": [
       "array([-93202., -93137., -92962., -92593.])"
      ]
     },
     "execution_count": 21,
     "metadata": {},
     "output_type": "execute_result"
    }
   ],
   "source": [
    "right = gd.get_RSS(y, features, weights)-a*n*(np.linalg.norm(gd.get_RSS_partial(y, features, weights))**2)\n",
    "right"
   ]
  },
  {
   "cell_type": "code",
   "execution_count": 22,
   "metadata": {
    "collapsed": false
   },
   "outputs": [
    {
     "data": {
      "text/plain": [
       "array([False, False, False, False], dtype=bool)"
      ]
     },
     "execution_count": 22,
     "metadata": {},
     "output_type": "execute_result"
    }
   ],
   "source": [
    "left <= right"
   ]
  },
  {
   "cell_type": "markdown",
   "metadata": {},
   "source": [
    "$$f(x^{k} - \\eta^{k} \\nabla f(x^{k}) \\leq f(x^{k} - \\alpha n^{k} \\Vert \\nabla f(x^{k}) \\Vert ^2$$"
   ]
  },
  {
   "cell_type": "code",
   "execution_count": 51,
   "metadata": {
    "collapsed": false
   },
   "outputs": [],
   "source": [
    "def is_step_valid(y, features, weights, partial, step, a=0.4):\n",
    "    RSS = gd.get_RSS(y, features, weights)\n",
    "    return (gd.get_RSS(y, features, (weights-step*partial)) \n",
    "            <= RSS-a*step*(np.linalg.norm(partial)**2)).all()"
   ]
  },
  {
   "cell_type": "code",
   "execution_count": 61,
   "metadata": {
    "collapsed": false
   },
   "outputs": [
    {
     "name": "stdout",
     "output_type": "stream",
     "text": [
      "100 loops, best of 3: 4.81 ms per loop\n"
     ]
    }
   ],
   "source": [
    "%%timeit\n",
    "n=1\n",
    "b=.8\n",
    "partial = gd.get_RSS_partial(y, features, weights)\n",
    "while not is_step_valid(y, features, weights, partial, n):\n",
    "    n = b*n\n",
    "    partial = gd.get_RSS_partial(y, features, weights)"
   ]
  },
  {
   "cell_type": "markdown",
   "metadata": {
    "collapsed": true
   },
   "source": [
    "## Gradient descent with backtracking line search"
   ]
  },
  {
   "cell_type": "code",
   "execution_count": 86,
   "metadata": {
    "collapsed": false
   },
   "outputs": [],
   "source": [
    "def gradient_descent(y, features, weights, step_size_initial, tolerance, step_function, params={}):\n",
    "    y_copy = y.copy()\n",
    "    features_copy = features.copy()\n",
    "    weights_copy = weights.copy()\n",
    "    n=step_size_initial\n",
    "    i=1\n",
    "    while True:\n",
    "        partial = gd.get_RSS_partial(y_copy, features_copy, weights_copy)\n",
    "        n = step_function(n, i, y_copy, features_copy, weights_copy, params)\n",
    "        weights_copy = weights_copy+n*partial\n",
    "        if np.linalg.norm(partial)<tolerance:\n",
    "            break\n",
    "        i=i+1\n",
    "        if i%50000==0:\n",
    "            print(\"loop:\", i, ' | n:', n, ' | weights:', weights_copy)\n",
    "    return weights_copy"
   ]
  },
  {
   "cell_type": "code",
   "execution_count": 87,
   "metadata": {
    "collapsed": true
   },
   "outputs": [],
   "source": [
    "def backtracking_line_search(n, i, y, features, weights, params):\n",
    "    partial = gd.get_RSS_partial(y, features, weights)\n",
    "    while not is_step_valid(y, features, weights, partial, n):\n",
    "        n=b*n\n",
    "    return n"
   ]
  },
  {
   "cell_type": "code",
   "execution_count": null,
   "metadata": {
    "collapsed": false
   },
   "outputs": [],
   "source": [
    "model = gradient_descent(y, features, weights, 1, 0.01, backtracking_line_search)\n",
    "model"
   ]
  },
  {
   "cell_type": "markdown",
   "metadata": {},
   "source": [
    "Ok well backtracking line search has failed us...\n",
    "Lets try a search with a step schedule"
   ]
  },
  {
   "cell_type": "code",
   "execution_count": 102,
   "metadata": {
    "collapsed": true
   },
   "outputs": [],
   "source": [
    "def step_schedule(n, i, y, features, weights, params):\n",
    "    return params['a']/math.sqrt(i)"
   ]
  },
  {
   "cell_type": "code",
   "execution_count": 90,
   "metadata": {
    "collapsed": true
   },
   "outputs": [],
   "source": [
    "def fixed(n, i, y, features, weights, params):\n",
    "    return n"
   ]
  },
  {
   "cell_type": "code",
   "execution_count": 92,
   "metadata": {
    "collapsed": false
   },
   "outputs": [
    {
     "name": "stdout",
     "output_type": "stream",
     "text": [
      "loop: 50000  | n: 0.0009  | weights: [ 1.01434572  1.98694881  1.00247153]\n"
     ]
    },
    {
     "data": {
      "text/plain": [
       "array([ 1.01034982,  1.99058413,  1.0017831 ])"
      ]
     },
     "execution_count": 92,
     "metadata": {},
     "output_type": "execute_result"
    }
   ],
   "source": [
    "model = gradient_descent(y, features, weights, 0.0009, 0.001, fixed)\n",
    "model"
   ]
  },
  {
   "cell_type": "code",
   "execution_count": 110,
   "metadata": {
    "collapsed": false
   },
   "outputs": [
    {
     "name": "stdout",
     "output_type": "stream",
     "text": [
      "loop: 50000  | n: 0.00013416542031089882  | weights: [ 1.13503851  1.87714718  1.0232649 ]\n"
     ]
    },
    {
     "data": {
      "text/plain": [
       "array([ 1.10350447,  1.90583563,  1.01783211])"
      ]
     },
     "execution_count": 110,
     "metadata": {},
     "output_type": "execute_result"
    }
   ],
   "source": [
    "model = gradient_descent(y, features, weights, 1, 0.01, step_schedule, { 'a' : .03 })\n",
    "model"
   ]
  },
  {
   "cell_type": "code",
   "execution_count": null,
   "metadata": {
    "collapsed": true
   },
   "outputs": [],
   "source": []
  }
 ],
 "metadata": {
  "kernelspec": {
   "display_name": "Python 3",
   "language": "python",
   "name": "python3"
  },
  "language_info": {
   "codemirror_mode": {
    "name": "ipython",
    "version": 3
   },
   "file_extension": ".py",
   "mimetype": "text/x-python",
   "name": "python",
   "nbconvert_exporter": "python",
   "pygments_lexer": "ipython3",
   "version": "3.6.0"
  }
 },
 "nbformat": 4,
 "nbformat_minor": 2
}
