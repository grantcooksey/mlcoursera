{
 "cells": [
  {
   "cell_type": "markdown",
   "metadata": {
    "deletable": true,
    "editable": true
   },
   "source": [
    "# Decision Trees\n",
    "This notebook is designed to make an initial exploration of decision trees.  It will use the week 3 loan dataset."
   ]
  },
  {
   "cell_type": "code",
   "execution_count": 1,
   "metadata": {
    "collapsed": true,
    "deletable": true,
    "editable": true
   },
   "outputs": [],
   "source": [
    "import pandas as pd \n",
    "import numpy as np\n",
    "import matplotlib.pyplot as plt\n",
    "from sklearn.model_selection import train_test_split"
   ]
  },
  {
   "cell_type": "code",
   "execution_count": 2,
   "metadata": {
    "collapsed": false,
    "deletable": true,
    "editable": true
   },
   "outputs": [],
   "source": [
    "loans = pd.read_csv(\"./lending-club-data.csv\", dtype={'next_pymnt_d':str, 'desc':str})"
   ]
  },
  {
   "cell_type": "markdown",
   "metadata": {
    "deletable": true,
    "editable": true
   },
   "source": [
    "Format the output column to reflect safe as 1 and a risky loan as -1."
   ]
  },
  {
   "cell_type": "code",
   "execution_count": 31,
   "metadata": {
    "collapsed": false,
    "deletable": true,
    "editable": true
   },
   "outputs": [],
   "source": [
    "loans['output'] = loans['bad_loans'].apply(lambda x : +1 if x==0 else -1)\n",
    "loans = loans.drop('bad_loans', axis=1)"
   ]
  },
  {
   "cell_type": "markdown",
   "metadata": {
    "deletable": true,
    "editable": true
   },
   "source": [
    "Split the data in train and test set"
   ]
  },
  {
   "cell_type": "code",
   "execution_count": 32,
   "metadata": {
    "collapsed": false,
    "deletable": true,
    "editable": true
   },
   "outputs": [],
   "source": [
    "train, test = train_test_split(loans, test_size=0.2, random_state=1)"
   ]
  },
  {
   "cell_type": "markdown",
   "metadata": {
    "deletable": true,
    "editable": true
   },
   "source": [
    "Display the percentage of risky and safe loans."
   ]
  },
  {
   "cell_type": "code",
   "execution_count": 38,
   "metadata": {
    "collapsed": false,
    "deletable": true,
    "editable": true
   },
   "outputs": [
    {
     "name": "stdout",
     "output_type": "stream",
     "text": [
      "Safe: 81.16%\n",
      "Risky: 18.84%\n"
     ]
    }
   ],
   "source": [
    "percent_safe = train[train['output'] == 1].size / (1.0 * train.size) * 100\n",
    "percent_risky = train[train['output'] == -1].size / (1.0 * train.size) * 100\n",
    "\n",
    "print('Safe: {0:.2f}%'.format(percent_safe))\n",
    "print('Risky: {0:.2f}%'.format(percent_risky))"
   ]
  },
  {
   "cell_type": "markdown",
   "metadata": {
    "deletable": true,
    "editable": true
   },
   "source": [
    "Compute classification error for a feature."
   ]
  },
  {
   "cell_type": "code",
   "execution_count": 62,
   "metadata": {
    "collapsed": false,
    "deletable": true,
    "editable": true
   },
   "outputs": [],
   "source": [
    "def get_feature_error(data, feat, output, Verbose=False):\n",
    "    '''\n",
    "    Args:\n",
    "        feat (str): Catagorical variable\n",
    "        output (str): associated data should be binary\n",
    "    '''\n",
    "    num_error = 0\n",
    "    \n",
    "    bins = data[feat].unique()\n",
    "    for value in bins.tolist():\n",
    "        data_in_bin = data[data[feat] == value]\n",
    "        num_pos = data_in_bin[data_in_bin[output] == 1].size\n",
    "        num_neg = data_in_bin[data_in_bin[output] == -1].size\n",
    "        if Verbose:\n",
    "            print('-------------------')\n",
    "            print('In feature', value)\n",
    "            print('Safe: {0:.2f}% with {1} total'.format(num_pos/ (1.0 * data_in_bin.size), num_pos))\n",
    "            print('Risky: {0:.2f}% with {1} total'.format(num_neg / (1.0 * data_in_bin.size), num_neg))\n",
    "            print('-------------------')\n",
    "        if num_pos > num_neg:\n",
    "            num_error += num_neg\n",
    "        else:\n",
    "            num_error += num_pos\n",
    "            \n",
    "    return num_error / (1.0 * data.size)"
   ]
  },
  {
   "cell_type": "code",
   "execution_count": 64,
   "metadata": {
    "collapsed": false,
    "deletable": true,
    "editable": true
   },
   "outputs": [
    {
     "name": "stdout",
     "output_type": "stream",
     "text": [
      "-------------------\n",
      "('In feature', 'B')\n",
      "Safe: 0.85% with 1726044 total\n",
      "Risky: 0.15% with 295528 total\n",
      "-------------------\n",
      "-------------------\n",
      "('In feature', 'C')\n",
      "Safe: 0.79% with 1296692 total\n",
      "Risky: 0.21% with 335444 total\n",
      "-------------------\n",
      "-------------------\n",
      "('In feature', 'A')\n",
      "Safe: 0.93% with 1130908 total\n",
      "Risky: 0.07% with 85340 total\n",
      "-------------------\n",
      "-------------------\n",
      "('In feature', 'D')\n",
      "Safe: 0.73% with 761124 total\n",
      "Risky: 0.27% with 278664 total\n",
      "-------------------\n",
      "-------------------\n",
      "('In feature', 'E')\n",
      "Safe: 0.68% with 334288 total\n",
      "Risky: 0.32% with 155856 total\n",
      "-------------------\n",
      "-------------------\n",
      "('In feature', 'F')\n",
      "Safe: 0.61% with 128928 total\n",
      "Risky: 0.39% with 82484 total\n",
      "-------------------\n",
      "-------------------\n",
      "('In feature', 'G')\n",
      "Safe: 0.60% with 35088 total\n",
      "Risky: 0.40% with 23392 total\n",
      "-------------------\n",
      "0.188418208697\n",
      "-------------------\n",
      "('In feature', ' 36 months')\n",
      "Safe: 0.84% with 4469844 total\n",
      "Risky: 0.16% with 850680 total\n",
      "-------------------\n",
      "-------------------\n",
      "('In feature', ' 60 months')\n",
      "Safe: 0.70% with 943228 total\n",
      "Risky: 0.30% with 406028 total\n",
      "-------------------\n",
      "0.188418208697\n",
      "-------------------\n",
      "('In feature', 'RENT')\n",
      "Safe: 0.79% with 2293504 total\n",
      "Risky: 0.21% with 607104 total\n",
      "-------------------\n",
      "-------------------\n",
      "('In feature', 'OWN')\n",
      "Safe: 0.81% with 432072 total\n",
      "Risky: 0.19% with 104244 total\n",
      "-------------------\n",
      "-------------------\n",
      "('In feature', 'MORTGAGE')\n",
      "Safe: 0.83% with 2680016 total\n",
      "Risky: 0.17% with 543184 total\n",
      "-------------------\n",
      "-------------------\n",
      "('In feature', 'OTHER')\n",
      "Safe: 0.77% with 7480 total\n",
      "Risky: 0.23% with 2176 total\n",
      "-------------------\n",
      "0.188418208697\n",
      "-------------------\n",
      "('In feature', 'n/a')\n",
      "Safe: 0.73% with 161704 total\n",
      "Risky: 0.27% with 58548 total\n",
      "-------------------\n",
      "-------------------\n",
      "('In feature', '6 years')\n",
      "Safe: 0.80% with 332588 total\n",
      "Risky: 0.20% with 83436 total\n",
      "-------------------\n",
      "-------------------\n",
      "('In feature', '3 years')\n",
      "Safe: 0.82% with 460224 total\n",
      "Risky: 0.18% with 101116 total\n",
      "-------------------\n",
      "-------------------\n",
      "('In feature', '4 years')\n",
      "Safe: 0.82% with 378964 total\n",
      "Risky: 0.18% with 85408 total\n",
      "-------------------\n",
      "-------------------\n",
      "('In feature', '10+ years')\n",
      "Safe: 0.82% with 1513068 total\n",
      "Risky: 0.18% with 343060 total\n",
      "-------------------\n",
      "-------------------\n",
      "('In feature', '5 years')\n",
      "Safe: 0.81% with 424728 total\n",
      "Risky: 0.19% with 97036 total\n",
      "-------------------\n",
      "-------------------\n",
      "('In feature', '2 years')\n",
      "Safe: 0.83% with 541008 total\n",
      "Risky: 0.17% with 112744 total\n",
      "-------------------\n",
      "-------------------\n",
      "('In feature', '1 year')\n",
      "Safe: 0.82% with 389776 total\n",
      "Risky: 0.18% with 88332 total\n",
      "-------------------\n",
      "-------------------\n",
      "('In feature', '< 1 year')\n",
      "Safe: 0.81% with 490756 total\n",
      "Risky: 0.19% with 111656 total\n",
      "-------------------\n",
      "-------------------\n",
      "('In feature', '8 years')\n",
      "Safe: 0.81% with 234940 total\n",
      "Risky: 0.19% with 54332 total\n",
      "-------------------\n",
      "-------------------\n",
      "('In feature', '9 years')\n",
      "Safe: 0.80% with 193460 total\n",
      "Risky: 0.20% with 46988 total\n",
      "-------------------\n",
      "-------------------\n",
      "('In feature', '7 years')\n",
      "Safe: 0.80% with 291856 total\n",
      "Risky: 0.20% with 74052 total\n",
      "-------------------\n",
      "0.188418208697\n"
     ]
    }
   ],
   "source": [
    "features = ['grade',              # grade of the loan\n",
    "            'term',               # the term of the loan\n",
    "            'home_ownership',     # home_ownership status: own, mortgage or rent\n",
    "            'emp_length',         # number of years of employment\n",
    "           ]\n",
    "for feature in features:\n",
    "    print(get_feature_error(train, feature, 'output', Verbose=True))"
   ]
  },
  {
   "cell_type": "code",
   "execution_count": 59,
   "metadata": {
    "collapsed": false,
    "deletable": true,
    "editable": true
   },
   "outputs": [
    {
     "name": "stdout",
     "output_type": "stream",
     "text": [
      "-------------------\n",
      "2021572\n",
      "-------------------\n",
      "-------------------\n",
      "1632136\n",
      "-------------------\n",
      "-------------------\n",
      "1216248\n",
      "-------------------\n",
      "-------------------\n",
      "1039788\n",
      "-------------------\n",
      "-------------------\n",
      "490144\n",
      "-------------------\n",
      "-------------------\n",
      "211412\n",
      "-------------------\n",
      "-------------------\n",
      "58480\n",
      "-------------------\n"
     ]
    }
   ],
   "source": [
    "temp = 0\n",
    "for value in train['grade'].unique().tolist():\n",
    "    print('-------------------')\n",
    "    temp_data = train[train['grade']==value].size)\n",
    "    print('-------------------')"
   ]
  },
  {
   "cell_type": "markdown",
   "metadata": {
    "collapsed": true,
    "deletable": true,
    "editable": true
   },
   "source": [
    "We have an issue with unbalanced data. A simple approach would be to throw out some data with safe loans as to even it out. Explore there methods."
   ]
  }
 ],
 "metadata": {
  "kernelspec": {
   "display_name": "Python 2",
   "language": "python",
   "name": "python2"
  },
  "language_info": {
   "codemirror_mode": {
    "name": "ipython",
    "version": 2
   },
   "file_extension": ".py",
   "mimetype": "text/x-python",
   "name": "python",
   "nbconvert_exporter": "python",
   "pygments_lexer": "ipython2",
   "version": "2.7.12"
  }
 },
 "nbformat": 4,
 "nbformat_minor": 2
}
